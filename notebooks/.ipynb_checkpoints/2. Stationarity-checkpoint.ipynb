{
 "cells": [
  {
   "cell_type": "markdown",
   "id": "2f73906e",
   "metadata": {},
   "source": [
    "# Time Series Stationarity"
   ]
  },
  {
   "cell_type": "markdown",
   "id": "1536b22b",
   "metadata": {},
   "source": [
    "## What is Stationarity?"
   ]
  },
  {
   "cell_type": "markdown",
   "id": "5a265138",
   "metadata": {},
   "source": [
    "A time series is stationary if it does not exhibit any long term trends or obvious seasonality. \n",
    "\n",
    "It has:\n",
    "\n",
    "- A constant variance through time\n",
    "- A constant mean through time\n",
    "- The statistical properties of the time series do not change"
   ]
  },
  {
   "cell_type": "markdown",
   "id": "a113b229",
   "metadata": {},
   "source": [
    "## Visualise Data"
   ]
  },
  {
   "cell_type": "markdown",
   "id": "27f8f72d",
   "metadata": {},
   "source": [
    "(Data sourced from [Kaggle](https://www.kaggle.com/datasets/ashfakyeafi/air-passenger-data-for-time-series-analysis) with a CC0 licence)"
   ]
  },
  {
   "cell_type": "code",
   "execution_count": 1,
   "id": "23192695",
   "metadata": {},
   "outputs": [],
   "source": [
    "# Import packages\n",
    "import plotly.express as px\n",
    "import pandas as pd\n",
    "from statsmodels.tsa.stattools import adfuller\n",
    "import numpy as np"
   ]
  },
  {
   "cell_type": "code",
   "execution_count": 3,
   "id": "da0772ae",
   "metadata": {},
   "outputs": [],
   "source": [
    "# Read in the data\n",
    "data = pd.read_csv('../data/raw_data/AirPassengers.csv')"
   ]
  },
  {
   "cell_type": "code",
   "execution_count": null,
   "id": "a97bcfac",
   "metadata": {},
   "outputs": [],
   "source": [
    "def plotting(title, data, x, y, x_label, y_label):\n",
    "    \"\"\"General function to plot the passenger data.\"\"\"\n",
    "    fig = px.line(data, x=data[x], y=data[y], labels={x: x_label, y: y_label})\n",
    "\n",
    "    fig.update_layout(template=\"simple_white\", font=dict(size=18),\n",
    "                      title_text=title, width=650,\n",
    "                      title_x=0.5, height=400)\n",
    "\n",
    "    fig.show()"
   ]
  },
  {
   "cell_type": "code",
   "execution_count": null,
   "id": "d75a2030",
   "metadata": {},
   "outputs": [],
   "source": [
    "# Plot the airline passenger data\n",
    "plotting(title='Airline Passengers', data=data, x='Month',\n",
    "         y='#Passengers', x_label='Date', y_label='Passengers')"
   ]
  },
  {
   "cell_type": "markdown",
   "id": "aab4e8d2",
   "metadata": {},
   "source": [
    "Is this time series stationary? No.\n",
    "\n",
    "There is a clear increasing trend and the variance of fluctuations are also increasing in time.\n",
    "\n",
    "To make the time series stationary, we need apply transformations to it."
   ]
  },
  {
   "cell_type": "markdown",
   "id": "979ee642",
   "metadata": {},
   "source": [
    "## Differencing"
   ]
  },
  {
   "cell_type": "markdown",
   "id": "66b26ae9",
   "metadata": {},
   "source": [
    "The most common transformation is differencing."
   ]
  },
  {
   "attachments": {
    "1*S6N2Aqb0IOdySLxar1hicQ.png": {
     "image/png": "[encoded data removed]"
    }
   },
   "cell_type": "markdown",
   "id": "23221351",
   "metadata": {},
   "source": [
    "![1*S6N2Aqb0IOdySLxar1hicQ.png](attachment:1*S6N2Aqb0IOdySLxar1hicQ.png)"
   ]
  },
  {
   "cell_type": "markdown",
   "id": "094b5f1f",
   "metadata": {},
   "source": [
    "Where d(t) is the difference at time t between the series at points y(t) and y(t-1).\n"
   ]
  },
  {
   "cell_type": "code",
   "execution_count": null,
   "id": "54bcc6b6",
   "metadata": {},
   "outputs": [],
   "source": [
    "# Take the difference and plot it\n",
    "data[\"Passenger_Diff\"] = data[\"#Passengers\"].diff()\n",
    "\n",
    "plotting(title='Airline Passengers', data=data, x='Month', y='Passenger_Diff',\n",
    "         x_label='Date', y_label='Passengers<br>Difference Transform')"
   ]
  },
  {
   "cell_type": "markdown",
   "id": "28a847c5",
   "metadata": {},
   "source": [
    "Is the data now stationary? No.\n",
    "\n",
    "The mean is now constant and is oscillating about zero. However, we can clearly see the variance is still increasing through time."
   ]
  },
  {
   "cell_type": "markdown",
   "id": "0b56a746",
   "metadata": {},
   "source": [
    "## Logarithm Transform"
   ]
  },
  {
   "cell_type": "markdown",
   "id": "0edaabe5",
   "metadata": {},
   "source": [
    "To stabilise the variance, we apply the natural log transform."
   ]
  },
  {
   "cell_type": "code",
   "execution_count": null,
   "id": "1c8bc470",
   "metadata": {},
   "outputs": [],
   "source": [
    "# Take the log and plot it\n",
    "data[\"Passenger_Log\"] = np.log(data[\"#Passengers\"])\n",
    "\n",
    "plotting(title='Airline Passengers', data=data, x='Month',\n",
    "         y='Passenger_Log', x_label='Date', y_label='Passenger<br>Log Transform')"
   ]
  },
  {
   "cell_type": "markdown",
   "id": "5521b670",
   "metadata": {},
   "source": [
    "The fluctuations are now on a consistent scale, but there is still a trend. Therefore, we now again have to apply the difference transform."
   ]
  },
  {
   "cell_type": "markdown",
   "id": "33d576e8",
   "metadata": {},
   "source": [
    "## Logarithm and Differenc Transform"
   ]
  },
  {
   "cell_type": "code",
   "execution_count": null,
   "id": "0dda5b21",
   "metadata": {},
   "outputs": [],
   "source": [
    "# Take the difference and log and plot it\n",
    "data[\"Passenger_Diff_Log\"] = data[\"Passenger_Log\"].diff()\n",
    "\n",
    "plotting(title='Airline Passengers', data=data, x='Month',\n",
    "         y='Passenger_Diff_Log', x_label='Date', y_label='Passenger<br>Log and Difference')"
   ]
  },
  {
   "cell_type": "markdown",
   "id": "f046be23",
   "metadata": {},
   "source": [
    "Is the data now stationary? Yes!\n",
    "\n",
    "As we can see, the mean and variance is now constant and has no long term trend."
   ]
  },
  {
   "cell_type": "markdown",
   "id": "2f5c0204",
   "metadata": {},
   "source": [
    "## Stationarity Test"
   ]
  },
  {
   "cell_type": "markdown",
   "id": "de6937e8",
   "metadata": {},
   "source": [
    "There are more quantitative techniques to determine if the data is indeed stationary.\n",
    "\n",
    "One such method is the Augmented Dickey-Fuller (ADF) test. This is a statistical hypothesis test where the null hypothesis is the series is non-stationary (also known as a unit root test)."
   ]
  },
  {
   "cell_type": "code",
   "execution_count": null,
   "id": "947427f8",
   "metadata": {},
   "outputs": [],
   "source": [
    "# ADF test\n",
    "def adf_test(series):\n",
    "    \"\"\"Using an ADF test to determine if a series is stationary\"\"\"\n",
    "    test_results = adfuller(series)\n",
    "    print('ADF Statistic: ', test_results[0])\n",
    "    print('P-Value: ', test_results[1])\n",
    "    print('Critical Values:')\n",
    "    for thres, adf_stat in test_results[4].items():\n",
    "        print('\\t%s: %.2f' % (thres, adf_stat))\n",
    "\n",
    "\n",
    "adf_test(data[\"Passenger_Diff_Log\"][1:])"
   ]
  },
  {
   "cell_type": "markdown",
   "id": "89a4b6ff",
   "metadata": {},
   "source": [
    "The ADF P-value (7.1%) is in-between the 5% and 10%, so depending on where you set your significance level we either reject or fail to reject the null hypothesis."
   ]
  }
 ],
 "metadata": {
  "kernelspec": {
   "display_name": "Python 3 (ipykernel)",
   "language": "python",
   "name": "python3"
  },
  "language_info": {
   "codemirror_mode": {
    "name": "ipython",
    "version": 3
   },
   "file_extension": ".py",
   "mimetype": "text/x-python",
   "name": "python",
   "nbconvert_exporter": "python",
   "pygments_lexer": "ipython3",
   "version": "3.10.6"
  },
  "toc": {
   "base_numbering": 1,
   "nav_menu": {},
   "number_sections": true,
   "sideBar": true,
   "skip_h1_title": false,
   "title_cell": "Table of Contents",
   "title_sidebar": "Contents",
   "toc_cell": false,
   "toc_position": {},
   "toc_section_display": true,
   "toc_window_display": false
  },
  "varInspector": {
   "cols": {
    "lenName": 16,
    "lenType": 16,
    "lenVar": 40
   },
   "kernels_config": {
    "python": {
     "delete_cmd_postfix": "",
     "delete_cmd_prefix": "del ",
     "library": "var_list.py",
     "varRefreshCmd": "print(var_dic_list())"
    },
    "r": {
     "delete_cmd_postfix": ") ",
     "delete_cmd_prefix": "rm(",
     "library": "var_list.r",
     "varRefreshCmd": "cat(var_dic_list()) "
    }
   },
   "types_to_exclude": [
    "module",
    "function",
    "builtin_function_or_method",
    "instance",
    "_Feature"
   ],
   "window_display": false
  }
 },
 "nbformat": 4,
 "nbformat_minor": 5
}
